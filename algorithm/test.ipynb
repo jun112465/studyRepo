{
 "cells": [
  {
   "cell_type": "code",
   "execution_count": 15,
   "metadata": {},
   "outputs": [
    {
     "name": "stdout",
     "output_type": "stream",
     "text": [
      "0\n",
      "1\n",
      "2\n",
      "3\n",
      "inf\n"
     ]
    }
   ],
   "source": [
    "import math\n",
    "for i in range(4):\n",
    "    print(i)\n",
    "\n",
    "print(math.inf)"
   ]
  },
  {
   "cell_type": "code",
   "execution_count": 9,
   "metadata": {},
   "outputs": [
    {
     "name": "stdout",
     "output_type": "stream",
     "text": [
      "0\n",
      "1\n",
      "2\n",
      "3\n"
     ]
    }
   ],
   "source": [
    "for i in [0,1,2,3]:\n",
    "    print(i)"
   ]
  },
  {
   "cell_type": "code",
   "execution_count": 13,
   "metadata": {},
   "outputs": [
    {
     "name": "stdout",
     "output_type": "stream",
     "text": [
      "[1, 2, 3, 4]\n",
      "[1, 2, 3]\n",
      "[2]\n"
     ]
    }
   ],
   "source": [
    "li = [1,2,3,4]\n",
    "print(li)\n",
    "print(li[0:3])\n",
    "print(li[1:2])\n",
    "print(li[0:])\n",
    "print(li[:2])"
   ]
  },
  {
   "cell_type": "code",
   "execution_count": null,
   "metadata": {},
   "outputs": [],
   "source": [
    "'''\n",
    "min 함수 구현\n",
    "'''\n",
    "def my_min(li:list):\n",
    "    tmp = Math.INF\n",
    "    for i in li:\n",
    "\n"
   ]
  },
  {
   "cell_type": "code",
   "execution_count": 16,
   "metadata": {},
   "outputs": [
    {
     "name": "stdout",
     "output_type": "stream",
     "text": [
      "1\n"
     ]
    }
   ],
   "source": [
    "list = [10,5,1,3,2]\n",
    "\n",
    "small = list[0]\n",
    "small_idx = 0\n",
    "for i in range(len(list)):\n",
    "    if list[i] < small:\n",
    "        small = list[i]\n",
    "        small_idx = i"
   ]
  },
  {
   "cell_type": "code",
   "execution_count": 22,
   "metadata": {},
   "outputs": [
    {
     "name": "stdout",
     "output_type": "stream",
     "text": [
      "[747, 34, 23, 65, 1, 654, 32, 12, 12]\n",
      "9\n"
     ]
    }
   ],
   "source": [
    "def min_idx(li):\n",
    "    idx = 0\n",
    "    for i in range(len(li)):\n",
    "        if li[i] < li[idx]:\n",
    "            idx = i\n",
    "    return idx\n",
    "\n",
    "li = [23,32,654,12,65,1,34,12,747]\n",
    "\n",
    "cnt = 0\n",
    "for i in range(len(li)):\n",
    "    # 가장 작은 값의 인덱스 가져오기\n",
    "    idx = min(li[i:])\n",
    "\n",
    "    # swap\n",
    "    li[i],li[idx] = li[idx],li[i]\n",
    "    cnt += 1\n",
    "\n",
    "print(li)\n",
    "print(cnt)\n",
    "\n",
    "\n"
   ]
  }
 ],
 "metadata": {
  "kernelspec": {
   "display_name": "Python 3.9.12 64-bit",
   "language": "python",
   "name": "python3"
  },
  "language_info": {
   "codemirror_mode": {
    "name": "ipython",
    "version": 3
   },
   "file_extension": ".py",
   "mimetype": "text/x-python",
   "name": "python",
   "nbconvert_exporter": "python",
   "pygments_lexer": "ipython3",
   "version": "3.9.12"
  },
  "orig_nbformat": 4,
  "vscode": {
   "interpreter": {
    "hash": "b0fa6594d8f4cbf19f97940f81e996739fb7646882a419484c72d19e05852a7e"
   }
  }
 },
 "nbformat": 4,
 "nbformat_minor": 2
}
